{
 "cells": [
  {
   "cell_type": "code",
   "execution_count": 2,
   "id": "8322baac",
   "metadata": {},
   "outputs": [
    {
     "ename": "TypeError",
     "evalue": "can't multiply sequence by non-int of type 'float'",
     "output_type": "error",
     "traceback": [
      "\u001b[1;31m---------------------------------------------------------------------------\u001b[0m",
      "\u001b[1;31mTypeError\u001b[0m                                 Traceback (most recent call last)",
      "Cell \u001b[1;32mIn[2], line 2\u001b[0m\n\u001b[0;32m      1\u001b[0m price\u001b[38;5;241m=\u001b[39m[\u001b[38;5;241m4\u001b[39m,\u001b[38;5;241m8\u001b[39m,\u001b[38;5;241m3\u001b[39m,\u001b[38;5;241m6\u001b[39m,\u001b[38;5;241m4\u001b[39m,\u001b[38;5;241m11\u001b[39m,\u001b[38;5;241m3\u001b[39m]\n\u001b[1;32m----> 2\u001b[0m \u001b[38;5;28mprint\u001b[39m(\u001b[43mprice\u001b[49m\u001b[43m \u001b[49m\u001b[38;5;241;43m*\u001b[39;49m\u001b[43m \u001b[49m\u001b[38;5;241;43m2.5\u001b[39;49m)\n",
      "\u001b[1;31mTypeError\u001b[0m: can't multiply sequence by non-int of type 'float'"
     ]
    }
   ],
   "source": [
    "price=[4,8,3,6,4,11,3]\n",
    "print(price * 2.5)"
   ]
  },
  {
   "cell_type": "code",
   "execution_count": 7,
   "id": "881c618a",
   "metadata": {},
   "outputs": [
    {
     "data": {
      "text/plain": [
       "numpy.ndarray"
      ]
     },
     "execution_count": 7,
     "metadata": {},
     "output_type": "execute_result"
    }
   ],
   "source": [
    "import numpy as np\n",
    "npPrice = np.array(price)\n",
    "type(npPrice)"
   ]
  },
  {
   "cell_type": "code",
   "execution_count": 6,
   "id": "5184071d",
   "metadata": {},
   "outputs": [
    {
     "name": "stdout",
     "output_type": "stream",
     "text": [
      "[10.  20.   7.5 15.  10.  27.5  7.5]\n"
     ]
    }
   ],
   "source": [
    "print(npPrice * 2.5)"
   ]
  },
  {
   "cell_type": "code",
   "execution_count": 20,
   "id": "59e3e6ef",
   "metadata": {},
   "outputs": [
    {
     "name": "stdout",
     "output_type": "stream",
     "text": [
      "[ 4  8  6  6  4 22  6]\n"
     ]
    }
   ],
   "source": [
    "npTax = np.array([1,1,2,1,1,2,2])\n",
    "print(npPrice*npTax)"
   ]
  },
  {
   "cell_type": "code",
   "execution_count": 13,
   "id": "ccef2685",
   "metadata": {},
   "outputs": [
    {
     "name": "stdout",
     "output_type": "stream",
     "text": [
      "[1.  2.  3.5 0.2 0. ]\n"
     ]
    }
   ],
   "source": [
    "test=np.array([1.0, 2, 3.5, 0.2, False])\n",
    "print(test)"
   ]
  },
  {
   "cell_type": "code",
   "execution_count": 14,
   "id": "d1d41ac4",
   "metadata": {},
   "outputs": [
    {
     "name": "stdout",
     "output_type": "stream",
     "text": [
      "[1.  2.  3.5 0.2]\n"
     ]
    }
   ],
   "source": [
    "test=np.array((1.0, 2, 3.5, 0.2))\n",
    "print(test)"
   ]
  },
  {
   "cell_type": "code",
   "execution_count": 17,
   "id": "a5c11eac",
   "metadata": {},
   "outputs": [
    {
     "name": "stdout",
     "output_type": "stream",
     "text": [
      "[ 72 144 108 108  72 396 108]\n"
     ]
    }
   ],
   "source": [
    "npFinal = npPrice * (npTax * 18)\n",
    "print(npFinal)"
   ]
  },
  {
   "cell_type": "code",
   "execution_count": 18,
   "id": "99cf8120",
   "metadata": {},
   "outputs": [
    {
     "name": "stdout",
     "output_type": "stream",
     "text": [
      "[ 72 144 108 108  72 396 108]\n"
     ]
    }
   ],
   "source": [
    "npFinal = npPrice * (npTax * 18)\n",
    "print(npFinal)"
   ]
  },
  {
   "cell_type": "code",
   "execution_count": 21,
   "id": "608f76e9",
   "metadata": {},
   "outputs": [
    {
     "data": {
      "text/plain": [
       "array([False,  True,  True,  True, False,  True,  True])"
      ]
     },
     "execution_count": 21,
     "metadata": {},
     "output_type": "execute_result"
    }
   ],
   "source": [
    "npFinal > 100"
   ]
  },
  {
   "cell_type": "code",
   "execution_count": 22,
   "id": "6191c35f",
   "metadata": {},
   "outputs": [
    {
     "data": {
      "text/plain": [
       "[array([False,  True,  True,  True, False,  True,  True])]"
      ]
     },
     "execution_count": 22,
     "metadata": {},
     "output_type": "execute_result"
    }
   ],
   "source": [
    "[npFinal > 100]"
   ]
  },
  {
   "cell_type": "code",
   "execution_count": 25,
   "id": "ae4fc174",
   "metadata": {},
   "outputs": [
    {
     "name": "stdout",
     "output_type": "stream",
     "text": [
      "[False  True  True  True False  True  True]\n"
     ]
    }
   ],
   "source": [
    "ifValid = npFinal > 100\n",
    "print(ifValid)"
   ]
  },
  {
   "cell_type": "code",
   "execution_count": 43,
   "id": "ecca3afd",
   "metadata": {},
   "outputs": [
    {
     "name": "stdout",
     "output_type": "stream",
     "text": [
      "[144 108 108 396 108]\n"
     ]
    }
   ],
   "source": [
    "npFilter = npFinal[npFinal > 100]\n",
    "print(npFilter)"
   ]
  },
  {
   "cell_type": "code",
   "execution_count": 41,
   "id": "f0d601dc",
   "metadata": {},
   "outputs": [
    {
     "name": "stdout",
     "output_type": "stream",
     "text": [
      "[2, 5, 7, 4, 3, 1]\n",
      "[3, 5, 4, 6, 7, 8]\n",
      "[2, 5, 7, 4, 3, 1]\n"
     ]
    }
   ],
   "source": [
    "sample = [1,2,3,5,4,6,7,8,5,3,2]\n",
    "print(sample[::-2])\n",
    "print(sample[2:-3])\n",
    "print(sample[ : : -2])"
   ]
  },
  {
   "cell_type": "code",
   "execution_count": null,
   "id": "679661e3",
   "metadata": {},
   "outputs": [],
   "source": []
  }
 ],
 "metadata": {
  "kernelspec": {
   "display_name": "base",
   "language": "python",
   "name": "python3"
  },
  "language_info": {
   "codemirror_mode": {
    "name": "ipython",
    "version": 3
   },
   "file_extension": ".py",
   "mimetype": "text/x-python",
   "name": "python",
   "nbconvert_exporter": "python",
   "pygments_lexer": "ipython3",
   "version": "3.10.9 | packaged by Anaconda, Inc. | (main, Mar  1 2023, 18:18:15) [MSC v.1916 64 bit (AMD64)]"
  },
  "vscode": {
   "interpreter": {
    "hash": "2043299c89c8cd0b4d1a6f5cf4529bd58e6a4e0fe3181a25e0d328c821cdc5c5"
   }
  }
 },
 "nbformat": 4,
 "nbformat_minor": 5
}
