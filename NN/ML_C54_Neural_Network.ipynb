{
  "cells": [
    {
      "cell_type": "code",
      "execution_count": 4,
      "metadata": {
        "id": "QrEjDQ3m7j6r"
      },
      "outputs": [],
      "source": [
        "import pandas as pd\n",
        "import numpy as np\n",
        "\n",
        "import matplotlib.pyplot as plt\n",
        "import seaborn as sns\n",
        "\n"
      ]
    },
    {
      "cell_type": "code",
      "execution_count": 5,
      "metadata": {
        "colab": {
          "base_uri": "https://localhost:8080/",
          "height": 73
        },
        "id": "zpL5L0pN7kr6",
        "outputId": "902576eb-6b0c-4cc3-b70d-1f97593685d9"
      },
      "outputs": [],
      "source": [
        "#from google.colab import files\n",
        "#uploaded = files.upload()"
      ]
    },
    {
      "cell_type": "code",
      "execution_count": 6,
      "metadata": {
        "id": "uJlDalhW7noa"
      },
      "outputs": [],
      "source": [
        "import io\n",
        "train = pd.read_csv('train_clean.csv')"
      ]
    },
    {
      "cell_type": "code",
      "execution_count": 7,
      "metadata": {
        "colab": {
          "base_uri": "https://localhost:8080/",
          "height": 112
        },
        "id": "IY-cNLyv9Jns",
        "outputId": "d2c17930-3159-4e38-a2ee-d7d9a862435f"
      },
      "outputs": [
        {
          "data": {
            "text/html": [
              "<div>\n",
              "<style scoped>\n",
              "    .dataframe tbody tr th:only-of-type {\n",
              "        vertical-align: middle;\n",
              "    }\n",
              "\n",
              "    .dataframe tbody tr th {\n",
              "        vertical-align: top;\n",
              "    }\n",
              "\n",
              "    .dataframe thead th {\n",
              "        text-align: right;\n",
              "    }\n",
              "</style>\n",
              "<table border=\"1\" class=\"dataframe\">\n",
              "  <thead>\n",
              "    <tr style=\"text-align: right;\">\n",
              "      <th></th>\n",
              "      <th>Age</th>\n",
              "      <th>Cabin</th>\n",
              "      <th>Embarked</th>\n",
              "      <th>Fare</th>\n",
              "      <th>Name</th>\n",
              "      <th>Parch</th>\n",
              "      <th>PassengerId</th>\n",
              "      <th>Pclass</th>\n",
              "      <th>Sex</th>\n",
              "      <th>SibSp</th>\n",
              "      <th>Survived</th>\n",
              "      <th>Ticket</th>\n",
              "      <th>Title</th>\n",
              "      <th>Family_Size</th>\n",
              "    </tr>\n",
              "  </thead>\n",
              "  <tbody>\n",
              "    <tr>\n",
              "      <th>0</th>\n",
              "      <td>22.0</td>\n",
              "      <td>NaN</td>\n",
              "      <td>S</td>\n",
              "      <td>7.2500</td>\n",
              "      <td>Braund, Mr. Owen Harris</td>\n",
              "      <td>0</td>\n",
              "      <td>1</td>\n",
              "      <td>3</td>\n",
              "      <td>male</td>\n",
              "      <td>1</td>\n",
              "      <td>0.0</td>\n",
              "      <td>A/5 21171</td>\n",
              "      <td>Mr</td>\n",
              "      <td>1</td>\n",
              "    </tr>\n",
              "    <tr>\n",
              "      <th>1</th>\n",
              "      <td>38.0</td>\n",
              "      <td>C85</td>\n",
              "      <td>C</td>\n",
              "      <td>71.2833</td>\n",
              "      <td>Cumings, Mrs. John Bradley (Florence Briggs Th...</td>\n",
              "      <td>0</td>\n",
              "      <td>2</td>\n",
              "      <td>1</td>\n",
              "      <td>female</td>\n",
              "      <td>1</td>\n",
              "      <td>1.0</td>\n",
              "      <td>PC 17599</td>\n",
              "      <td>Mrs</td>\n",
              "      <td>1</td>\n",
              "    </tr>\n",
              "  </tbody>\n",
              "</table>\n",
              "</div>"
            ],
            "text/plain": [
              "    Age Cabin Embarked     Fare  \\\n",
              "0  22.0   NaN        S   7.2500   \n",
              "1  38.0   C85        C  71.2833   \n",
              "\n",
              "                                                Name  Parch  PassengerId  \\\n",
              "0                            Braund, Mr. Owen Harris      0            1   \n",
              "1  Cumings, Mrs. John Bradley (Florence Briggs Th...      0            2   \n",
              "\n",
              "   Pclass     Sex  SibSp  Survived     Ticket Title  Family_Size  \n",
              "0       3    male      1       0.0  A/5 21171    Mr            1  \n",
              "1       1  female      1       1.0   PC 17599   Mrs            1  "
            ]
          },
          "execution_count": 7,
          "metadata": {},
          "output_type": "execute_result"
        }
      ],
      "source": [
        "train.head(2)"
      ]
    },
    {
      "cell_type": "code",
      "execution_count": 8,
      "metadata": {
        "colab": {
          "base_uri": "https://localhost:8080/"
        },
        "id": "SW04XS15_keK",
        "outputId": "27964266-438e-4409-c003-97204bee0c43"
      },
      "outputs": [
        {
          "data": {
            "text/plain": [
              "array(['Mr', 'Mrs', 'Miss', 'Master', 'Rev', 'Dr'], dtype=object)"
            ]
          },
          "execution_count": 8,
          "metadata": {},
          "output_type": "execute_result"
        }
      ],
      "source": [
        "train[\"Title\"].unique()"
      ]
    },
    {
      "cell_type": "code",
      "execution_count": 9,
      "metadata": {
        "colab": {
          "base_uri": "https://localhost:8080/"
        },
        "id": "dnrftmgk9Li6",
        "outputId": "f812f02e-eb98-4840-a429-cb88a1cd7721"
      },
      "outputs": [
        {
          "name": "stdout",
          "output_type": "stream",
          "text": [
            "<class 'pandas.core.frame.DataFrame'>\n",
            "RangeIndex: 891 entries, 0 to 890\n",
            "Data columns (total 14 columns):\n",
            " #   Column       Non-Null Count  Dtype  \n",
            "---  ------       --------------  -----  \n",
            " 0   Age          891 non-null    float64\n",
            " 1   Cabin        204 non-null    object \n",
            " 2   Embarked     891 non-null    object \n",
            " 3   Fare         891 non-null    float64\n",
            " 4   Name         891 non-null    object \n",
            " 5   Parch        891 non-null    int64  \n",
            " 6   PassengerId  891 non-null    int64  \n",
            " 7   Pclass       891 non-null    int64  \n",
            " 8   Sex          891 non-null    object \n",
            " 9   SibSp        891 non-null    int64  \n",
            " 10  Survived     891 non-null    float64\n",
            " 11  Ticket       891 non-null    object \n",
            " 12  Title        891 non-null    object \n",
            " 13  Family_Size  891 non-null    int64  \n",
            "dtypes: float64(3), int64(5), object(6)\n",
            "memory usage: 97.6+ KB\n"
          ]
        }
      ],
      "source": [
        "train.info()"
      ]
    },
    {
      "cell_type": "code",
      "execution_count": 10,
      "metadata": {
        "colab": {
          "base_uri": "https://localhost:8080/"
        },
        "id": "mr-zoU-X-qa8",
        "outputId": "da962f82-6ae7-4d61-d458-1d766d91737f"
      },
      "outputs": [
        {
          "data": {
            "text/plain": [
              "Age            0.000000\n",
              "Cabin          0.771044\n",
              "Embarked       0.000000\n",
              "Fare           0.000000\n",
              "Name           0.000000\n",
              "Parch          0.000000\n",
              "PassengerId    0.000000\n",
              "Pclass         0.000000\n",
              "Sex            0.000000\n",
              "SibSp          0.000000\n",
              "Survived       0.000000\n",
              "Ticket         0.000000\n",
              "Title          0.000000\n",
              "Family_Size    0.000000\n",
              "dtype: float64"
            ]
          },
          "execution_count": 10,
          "metadata": {},
          "output_type": "execute_result"
        }
      ],
      "source": [
        "train.isnull().mean()"
      ]
    },
    {
      "cell_type": "code",
      "execution_count": 11,
      "metadata": {
        "id": "uz1pLSbk-yFC"
      },
      "outputs": [],
      "source": [
        "train=train.drop([\"Cabin\"],axis=1)"
      ]
    },
    {
      "cell_type": "code",
      "execution_count": 12,
      "metadata": {
        "id": "Xs7fGtnu-34a"
      },
      "outputs": [],
      "source": [
        "train=train.drop([\"PassengerId\",\"Name\",\"Ticket\"],axis=1)"
      ]
    },
    {
      "cell_type": "code",
      "execution_count": 13,
      "metadata": {
        "id": "ILQdbar7_Jde"
      },
      "outputs": [],
      "source": [
        "dummy=['Embarked', 'Parch', 'Pclass', 'SibSp', \"Title\",'Family_Size']"
      ]
    },
    {
      "cell_type": "code",
      "execution_count": 14,
      "metadata": {
        "id": "q3955N6Q_eww"
      },
      "outputs": [],
      "source": [
        "for i in dummy:\n",
        "  train[i]=train[i].astype(object)"
      ]
    },
    {
      "cell_type": "code",
      "execution_count": 15,
      "metadata": {
        "colab": {
          "base_uri": "https://localhost:8080/"
        },
        "id": "2UH94TsO_8ES",
        "outputId": "2f77f00e-aa3e-40f7-d1cb-47b76839f0ed"
      },
      "outputs": [
        {
          "name": "stderr",
          "output_type": "stream",
          "text": [
            "C:\\Users\\Admin\\AppData\\Local\\Temp\\ipykernel_3100\\3606712544.py:1: FutureWarning: In a future version, the Index constructor will not infer numeric dtypes when passed object-dtype sequences (matching Series behavior)\n",
            "  dum=pd.get_dummies(train[dummy],drop_first=True)\n",
            "C:\\Users\\Admin\\AppData\\Local\\Temp\\ipykernel_3100\\3606712544.py:1: FutureWarning: In a future version, the Index constructor will not infer numeric dtypes when passed object-dtype sequences (matching Series behavior)\n",
            "  dum=pd.get_dummies(train[dummy],drop_first=True)\n",
            "C:\\Users\\Admin\\AppData\\Local\\Temp\\ipykernel_3100\\3606712544.py:1: FutureWarning: In a future version, the Index constructor will not infer numeric dtypes when passed object-dtype sequences (matching Series behavior)\n",
            "  dum=pd.get_dummies(train[dummy],drop_first=True)\n",
            "C:\\Users\\Admin\\AppData\\Local\\Temp\\ipykernel_3100\\3606712544.py:1: FutureWarning: In a future version, the Index constructor will not infer numeric dtypes when passed object-dtype sequences (matching Series behavior)\n",
            "  dum=pd.get_dummies(train[dummy],drop_first=True)\n"
          ]
        }
      ],
      "source": [
        "dum=pd.get_dummies(train[dummy],drop_first=True)"
      ]
    },
    {
      "cell_type": "code",
      "execution_count": 16,
      "metadata": {
        "id": "rADB5sRY_-Py"
      },
      "outputs": [],
      "source": [
        "df=pd.concat([train,dum],axis=1)"
      ]
    },
    {
      "cell_type": "code",
      "execution_count": 17,
      "metadata": {
        "id": "FB4fM8UaAAzp"
      },
      "outputs": [],
      "source": [
        "df=df.drop(dummy,axis=1)"
      ]
    },
    {
      "cell_type": "code",
      "execution_count": 18,
      "metadata": {
        "colab": {
          "base_uri": "https://localhost:8080/"
        },
        "id": "c_gldgXfADSq",
        "outputId": "04ea3d2e-3ef3-470d-bf7a-84c2e000ef03"
      },
      "outputs": [
        {
          "name": "stdout",
          "output_type": "stream",
          "text": [
            "<class 'pandas.core.frame.DataFrame'>\n",
            "RangeIndex: 891 entries, 0 to 890\n",
            "Data columns (total 33 columns):\n",
            " #   Column          Non-Null Count  Dtype  \n",
            "---  ------          --------------  -----  \n",
            " 0   Age             891 non-null    float64\n",
            " 1   Fare            891 non-null    float64\n",
            " 2   Sex             891 non-null    object \n",
            " 3   Survived        891 non-null    float64\n",
            " 4   Embarked_Q      891 non-null    uint8  \n",
            " 5   Embarked_S      891 non-null    uint8  \n",
            " 6   Parch_1         891 non-null    uint8  \n",
            " 7   Parch_2         891 non-null    uint8  \n",
            " 8   Parch_3         891 non-null    uint8  \n",
            " 9   Parch_4         891 non-null    uint8  \n",
            " 10  Parch_5         891 non-null    uint8  \n",
            " 11  Parch_6         891 non-null    uint8  \n",
            " 12  Pclass_2        891 non-null    uint8  \n",
            " 13  Pclass_3        891 non-null    uint8  \n",
            " 14  SibSp_1         891 non-null    uint8  \n",
            " 15  SibSp_2         891 non-null    uint8  \n",
            " 16  SibSp_3         891 non-null    uint8  \n",
            " 17  SibSp_4         891 non-null    uint8  \n",
            " 18  SibSp_5         891 non-null    uint8  \n",
            " 19  SibSp_8         891 non-null    uint8  \n",
            " 20  Title_Master    891 non-null    uint8  \n",
            " 21  Title_Miss      891 non-null    uint8  \n",
            " 22  Title_Mr        891 non-null    uint8  \n",
            " 23  Title_Mrs       891 non-null    uint8  \n",
            " 24  Title_Rev       891 non-null    uint8  \n",
            " 25  Family_Size_1   891 non-null    uint8  \n",
            " 26  Family_Size_2   891 non-null    uint8  \n",
            " 27  Family_Size_3   891 non-null    uint8  \n",
            " 28  Family_Size_4   891 non-null    uint8  \n",
            " 29  Family_Size_5   891 non-null    uint8  \n",
            " 30  Family_Size_6   891 non-null    uint8  \n",
            " 31  Family_Size_7   891 non-null    uint8  \n",
            " 32  Family_Size_10  891 non-null    uint8  \n",
            "dtypes: float64(3), object(1), uint8(29)\n",
            "memory usage: 53.2+ KB\n"
          ]
        }
      ],
      "source": [
        "df.info()"
      ]
    },
    {
      "cell_type": "code",
      "execution_count": 19,
      "metadata": {
        "id": "m-2RhXoSAFEN"
      },
      "outputs": [],
      "source": [
        "df[\"Sex\"]=df[\"Sex\"].map({\"male\":1,\"female\":0})"
      ]
    },
    {
      "cell_type": "code",
      "execution_count": 20,
      "metadata": {
        "id": "mD7edQRKAV72"
      },
      "outputs": [],
      "source": [
        "X=df.drop([\"Survived\"],axis=1)\n",
        "y=df[\"Survived\"]"
      ]
    },
    {
      "cell_type": "code",
      "execution_count": 21,
      "metadata": {
        "id": "LnTGTjEwAdBo"
      },
      "outputs": [],
      "source": [
        "from sklearn.model_selection import train_test_split\n",
        "X_train,X_test,y_train,y_test=train_test_split(X,y,test_size=0.2,random_state=100)"
      ]
    },
    {
      "cell_type": "code",
      "execution_count": 22,
      "metadata": {
        "colab": {
          "base_uri": "https://localhost:8080/"
        },
        "id": "2Q1tskO1ArlA",
        "outputId": "8d1157d1-401d-4181-c135-788fc37be567"
      },
      "outputs": [
        {
          "data": {
            "text/plain": [
              "(712, 32)"
            ]
          },
          "execution_count": 22,
          "metadata": {},
          "output_type": "execute_result"
        }
      ],
      "source": [
        "X_train.shape"
      ]
    },
    {
      "cell_type": "code",
      "execution_count": 23,
      "metadata": {
        "colab": {
          "base_uri": "https://localhost:8080/"
        },
        "id": "j8R2GrJKAzNS",
        "outputId": "ba17c6f8-56a3-42c6-c205-54ada2bfa66c"
      },
      "outputs": [
        {
          "data": {
            "text/plain": [
              "(179, 32)"
            ]
          },
          "execution_count": 23,
          "metadata": {},
          "output_type": "execute_result"
        }
      ],
      "source": [
        "X_test.shape"
      ]
    },
    {
      "cell_type": "code",
      "execution_count": 24,
      "metadata": {
        "id": "vvPegq7OA1NU"
      },
      "outputs": [],
      "source": [
        "## Neural Network Building"
      ]
    },
    {
      "cell_type": "code",
      "execution_count": 25,
      "metadata": {
        "id": "JdH2BGS0ESHV"
      },
      "outputs": [],
      "source": [
        "from keras.models import Sequential\n",
        "from keras.layers import Dense,Activation, Dropout"
      ]
    },
    {
      "cell_type": "code",
      "execution_count": 26,
      "metadata": {
        "id": "E6yhL9vjEqxb"
      },
      "outputs": [],
      "source": [
        "model=Sequential()\n",
        "model.add(Dense(units=32,activation='relu'))\n",
        "model.add(Dense(units=64,activation='relu'))\n",
        "model.add(Dense(units=128,activation='relu'))\n",
        "model.add(Dense(units=256,activation='relu'))\n",
        "model.add(Dense(units=1,activation='sigmoid'))"
      ]
    },
    {
      "cell_type": "code",
      "execution_count": 27,
      "metadata": {
        "id": "7pNYKN2DFbnf"
      },
      "outputs": [],
      "source": [
        "model.compile(optimizer=\"adam\",loss='binary_crossentropy',metrics=['AUC'])"
      ]
    },
    {
      "cell_type": "code",
      "execution_count": 28,
      "metadata": {
        "colab": {
          "base_uri": "https://localhost:8080/"
        },
        "id": "_G_vHIS5GqVp",
        "outputId": "ac9db62b-1793-4c24-961d-c9363de867d9"
      },
      "outputs": [
        {
          "name": "stdout",
          "output_type": "stream",
          "text": [
            "No. of Batches: 45\n"
          ]
        }
      ],
      "source": [
        "print(\"No. of Batches:\",712//16+1)"
      ]
    },
    {
      "cell_type": "code",
      "execution_count": 29,
      "metadata": {
        "colab": {
          "base_uri": "https://localhost:8080/"
        },
        "id": "g4Y4IsypGIp5",
        "outputId": "ab7a209d-f6d0-4307-b1cf-d29c2d5545cd"
      },
      "outputs": [
        {
          "name": "stdout",
          "output_type": "stream",
          "text": [
            "Epoch 1/20\n"
          ]
        },
        {
          "name": "stdout",
          "output_type": "stream",
          "text": [
            "45/45 [==============================] - 5s 8ms/step - loss: 0.7141 - auc: 0.6767\n",
            "Epoch 2/20\n",
            "45/45 [==============================] - 0s 6ms/step - loss: 0.6106 - auc: 0.7235\n",
            "Epoch 3/20\n",
            "45/45 [==============================] - 0s 7ms/step - loss: 0.5559 - auc: 0.7767\n",
            "Epoch 4/20\n",
            "45/45 [==============================] - 0s 7ms/step - loss: 0.5477 - auc: 0.7858\n",
            "Epoch 5/20\n",
            "45/45 [==============================] - 0s 7ms/step - loss: 0.5518 - auc: 0.7787\n",
            "Epoch 6/20\n",
            "45/45 [==============================] - 0s 8ms/step - loss: 0.4783 - auc: 0.8420\n",
            "Epoch 7/20\n",
            "45/45 [==============================] - 0s 9ms/step - loss: 0.5085 - auc: 0.8195\n",
            "Epoch 8/20\n",
            "45/45 [==============================] - 0s 7ms/step - loss: 0.4840 - auc: 0.8359\n",
            "Epoch 9/20\n",
            "45/45 [==============================] - 0s 7ms/step - loss: 0.4661 - auc: 0.8475\n",
            "Epoch 10/20\n",
            "45/45 [==============================] - 0s 7ms/step - loss: 0.5129 - auc: 0.8177\n",
            "Epoch 11/20\n",
            "45/45 [==============================] - 0s 7ms/step - loss: 0.4641 - auc: 0.8514\n",
            "Epoch 12/20\n",
            "45/45 [==============================] - 0s 7ms/step - loss: 0.4428 - auc: 0.8609\n",
            "Epoch 13/20\n",
            "45/45 [==============================] - 0s 7ms/step - loss: 0.4397 - auc: 0.8580\n",
            "Epoch 14/20\n",
            "45/45 [==============================] - 0s 7ms/step - loss: 0.4296 - auc: 0.8607\n",
            "Epoch 15/20\n",
            "45/45 [==============================] - 0s 9ms/step - loss: 0.4409 - auc: 0.8540\n",
            "Epoch 16/20\n",
            "45/45 [==============================] - 0s 10ms/step - loss: 0.4529 - auc: 0.8591\n",
            "Epoch 17/20\n",
            "45/45 [==============================] - 0s 7ms/step - loss: 0.4273 - auc: 0.8701\n",
            "Epoch 18/20\n",
            "45/45 [==============================] - 0s 7ms/step - loss: 0.4267 - auc: 0.8627\n",
            "Epoch 19/20\n",
            "45/45 [==============================] - 0s 7ms/step - loss: 0.4196 - auc: 0.8686\n",
            "Epoch 20/20\n",
            "45/45 [==============================] - 0s 8ms/step - loss: 0.4022 - auc: 0.8741\n"
          ]
        }
      ],
      "source": [
        "history=model.fit(X_train,y_train,batch_size=16,epochs=20)"
      ]
    },
    {
      "cell_type": "code",
      "execution_count": 30,
      "metadata": {
        "colab": {
          "base_uri": "https://localhost:8080/"
        },
        "id": "bEPNyxkWG1Ox",
        "outputId": "e705bf89-183c-4cb1-83ea-d25cd262c013"
      },
      "outputs": [
        {
          "name": "stdout",
          "output_type": "stream",
          "text": [
            "6/6 [==============================] - 0s 3ms/step\n"
          ]
        },
        {
          "data": {
            "text/plain": [
              "0.8523717948717949"
            ]
          },
          "execution_count": 30,
          "metadata": {},
          "output_type": "execute_result"
        }
      ],
      "source": [
        "from sklearn.metrics import roc_auc_score\n",
        "roc_auc_score(y_test, model.predict(X_test))"
      ]
    },
    {
      "cell_type": "code",
      "execution_count": null,
      "metadata": {
        "id": "ZfjHYIXMHYLf"
      },
      "outputs": [],
      "source": []
    }
  ],
  "metadata": {
    "accelerator": "GPU",
    "colab": {
      "gpuType": "T4",
      "provenance": []
    },
    "kernelspec": {
      "display_name": "Python 3",
      "name": "python3"
    },
    "language_info": {
      "codemirror_mode": {
        "name": "ipython",
        "version": 3
      },
      "file_extension": ".py",
      "mimetype": "text/x-python",
      "name": "python",
      "nbconvert_exporter": "python",
      "pygments_lexer": "ipython3",
      "version": "3.10.9"
    }
  },
  "nbformat": 4,
  "nbformat_minor": 0
}
