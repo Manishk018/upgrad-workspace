{
 "cells": [
  {
   "cell_type": "code",
   "execution_count": 46,
   "id": "3152ee3f",
   "metadata": {},
   "outputs": [
    {
     "name": "stdout",
     "output_type": "stream",
     "text": [
      "Enter sometning..Ravi KumaR\n",
      "What is  Ravi KumaR ?\n"
     ]
    }
   ],
   "source": [
    "Name=input(\"Enter sometning..\")\n",
    "print(\"What is \",Name,\"?\")"
   ]
  },
  {
   "cell_type": "code",
   "execution_count": 5,
   "id": "b894bd1d",
   "metadata": {},
   "outputs": [
    {
     "name": "stdout",
     "output_type": "stream",
     "text": [
      "is \n"
     ]
    }
   ],
   "source": [
    "str=\"this is getting out of hands\"\n",
    "print(str[2:5])"
   ]
  },
  {
   "cell_type": "code",
   "execution_count": 8,
   "id": "0286ce44",
   "metadata": {},
   "outputs": [
    {
     "name": "stdout",
     "output_type": "stream",
     "text": [
      "2468\n"
     ]
    }
   ],
   "source": [
    "str=\"123456789\"\n",
    "print(str[1::2])"
   ]
  },
  {
   "cell_type": "code",
   "execution_count": 6,
   "id": "176a9e21",
   "metadata": {},
   "outputs": [
    {
     "name": "stdout",
     "output_type": "stream",
     "text": [
      "Ravi and Kumar can break your bones!\n"
     ]
    }
   ],
   "source": [
    "print(\"{0} and {1} can break your {2}, sticks and stones do nothing!\".format(\"Ravi\",\"Kumar\",\"bones\"))"
   ]
  },
  {
   "cell_type": "code",
   "execution_count": 28,
   "id": "b17ccf47",
   "metadata": {},
   "outputs": [
    {
     "name": "stdout",
     "output_type": "stream",
     "text": [
      "Ravi ---  kumar \n"
     ]
    }
   ],
   "source": [
    "#Ravi kumar langot ka bahut pakka hai!\n",
    "Name=\"Ravi kumar langot ka bahut pakka hai!\"\n",
    "print(Name[0:4],\"---\",Name[5:11])"
   ]
  },
  {
   "cell_type": "code",
   "execution_count": 5,
   "id": "dad876db",
   "metadata": {},
   "outputs": [
    {
     "name": "stdout",
     "output_type": "stream",
     "text": [
      "Enter name but Not Ravi Kumar..Adam\n",
      "YES\n"
     ]
    }
   ],
   "source": [
    "name=input(\"Enter name but Not Ravi Kumar..\")\n",
    "if name[0].lower() in 'aeiou':\n",
    "    print('YES')\n",
    "else:\n",
    "    print('NO')"
   ]
  },
  {
   "cell_type": "code",
   "execution_count": 10,
   "id": "cf9375e6",
   "metadata": {},
   "outputs": [
    {
     "name": "stdout",
     "output_type": "stream",
     "text": [
      "1\n",
      "3\n",
      "5\n"
     ]
    }
   ],
   "source": [
    "for i in range(1,7,2):\n",
    "    print(i)\n"
   ]
  },
  {
   "cell_type": "code",
   "execution_count": 18,
   "id": "b1f8944f",
   "metadata": {},
   "outputs": [
    {
     "name": "stdout",
     "output_type": "stream",
     "text": [
      "R\n",
      "a\n",
      "v\n",
      "i\n",
      " \n",
      "K\n",
      "u\n",
      "m\n",
      "a\n",
      "r\n"
     ]
    }
   ],
   "source": [
    "for c in 'Ravi Kumar':\n",
    "    print(c)"
   ]
  },
  {
   "cell_type": "code",
   "execution_count": 17,
   "id": "e6684624",
   "metadata": {},
   "outputs": [
    {
     "name": "stdout",
     "output_type": "stream",
     "text": [
      "Ravi \n",
      "Ravi Ravi \n",
      "Ravi Ravi Ravi \n",
      "Ravi Ravi Ravi Ravi \n",
      "Ravi Ravi Ravi Ravi Ravi \n",
      "Ravi Ravi Ravi Ravi \n",
      "Ravi Ravi Ravi \n",
      "Ravi Ravi \n",
      "Ravi \n"
     ]
    }
   ],
   "source": [
    "s=''\n",
    "for i in range(0,9):\n",
    "    if i < 5:\n",
    "        s+='Ravi '\n",
    "    else:\n",
    "        s=s[:-5]\n",
    "    print(s)"
   ]
  },
  {
   "cell_type": "code",
   "execution_count": 25,
   "id": "753f2834",
   "metadata": {},
   "outputs": [
    {
     "name": "stdout",
     "output_type": "stream",
     "text": [
      "0  :  R\n",
      "1  :  K\n",
      "2  :  K\n",
      "3  :  M\n",
      "4  :  K\n",
      "5  :  B\n"
     ]
    }
   ],
   "source": [
    "for n,c in enumerate(\"RKKMKB\"):\n",
    "    print(n,\" : \",c)"
   ]
  },
  {
   "cell_type": "code",
   "execution_count": 31,
   "id": "93a3a5e5",
   "metadata": {},
   "outputs": [
    {
     "name": "stdout",
     "output_type": "stream",
     "text": [
      "vowels :  19\n",
      "consonents :  47\n"
     ]
    }
   ],
   "source": [
    "v=[]\n",
    "c=[]\n",
    "str='Ravi Kumar has how many vowels and consonents, you will never know'\n",
    "for ch in str:\n",
    "    if ch in 'aeiou':\n",
    "        v.append(ch)\n",
    "    else:\n",
    "        c.append(ch)\n",
    "print('vowels : ',len(v))\n",
    "print('consonents : ',len(c))\n",
    "        "
   ]
  },
  {
   "cell_type": "code",
   "execution_count": 34,
   "id": "e31636f1",
   "metadata": {},
   "outputs": [
    {
     "name": "stdout",
     "output_type": "stream",
     "text": [
      "[1, 4, 9, 16, 25, 36, 49]\n"
     ]
    }
   ],
   "source": [
    "print(list(i**2 for i in range(1,8)))"
   ]
  },
  {
   "cell_type": "code",
   "execution_count": 38,
   "id": "99ca1a30",
   "metadata": {},
   "outputs": [
    {
     "name": "stdout",
     "output_type": "stream",
     "text": [
      "[1, 1267650600228229401496703205376, 515377520732011331036461129765621272702107522001, 1606938044258990275541962092341162602522202993782792835301376, 7888609052210118054117285652827862296732064351090230047702789306640625, 653318623500070906096690267158057820537143710472954871543071966369497141477376, 3234476509624757991344647769100216810857203198904625400933895331391691459636928060001, 2037035976334486086268445688409378161051468393665936250636140449354381299763336706183397376, 265613988875874769338781322035779626829233452653394495974574961739092490901302182994384699044001, 10000000000000000000000000000000000000000000000000000000000000000000000000000000000000000000000000000]\n"
     ]
    }
   ],
   "source": [
    "print(list(i**100 for i in range(1,11)))"
   ]
  },
  {
   "cell_type": "code",
   "execution_count": 1,
   "id": "52d837e2",
   "metadata": {},
   "outputs": [
    {
     "name": "stdout",
     "output_type": "stream",
     "text": [
      "Ravi\n",
      "Kumar\n",
      "is\n",
      "Back.\n",
      "And\n",
      "this\n",
      "time\n",
      "he\n",
      "is\n",
      "back\n",
      "good.\n"
     ]
    }
   ],
   "source": [
    "s='Ravi Kumar is Back. And this time he is back good.'\n",
    "for sentence in s.split():\n",
    "    print(sentence)\n",
    "    "
   ]
  },
  {
   "cell_type": "code",
   "execution_count": 51,
   "id": "2721c86a",
   "metadata": {},
   "outputs": [
    {
     "name": "stdout",
     "output_type": "stream",
     "text": [
      "{1: 1, 2: 4, 3: 9, 4: 16, 5: 25, 6: 36, 7: 49, 8: 64, 9: 81, 10: 100, 11: 121, 12: 144, 13: 169, 14: 196, 15: 225, 16: 256, 17: 289, 18: 324, 19: 361, 20: 400, 21: 441, 22: 484, 23: 529, 24: 576}\n"
     ]
    }
   ],
   "source": [
    "d={n:n**2 for n in range(1,25)}\n",
    "print(d)"
   ]
  },
  {
   "cell_type": "code",
   "execution_count": 55,
   "id": "346f2875",
   "metadata": {},
   "outputs": [
    {
     "name": "stdout",
     "output_type": "stream",
     "text": [
      "{'Ravi': 'Ravi kumar', 'Kumar': 'Kumar kumar'}\n"
     ]
    }
   ],
   "source": [
    "d={n:n+' kumar' for n in ['Ravi', 'Kumar']}\n",
    "print(d)"
   ]
  },
  {
   "cell_type": "code",
   "execution_count": 56,
   "id": "aa42ca30",
   "metadata": {},
   "outputs": [
    {
     "name": "stdout",
     "output_type": "stream",
     "text": [
      "8\n"
     ]
    }
   ],
   "source": [
    "x=2\n",
    "y=3\n",
    "def squared(num1,num2):\n",
    "    return num1**num2\n",
    "\n",
    "print(squared(x,y))"
   ]
  },
  {
   "cell_type": "code",
   "execution_count": 8,
   "id": "0b217048",
   "metadata": {},
   "outputs": [
    {
     "name": "stdout",
     "output_type": "stream",
     "text": [
      "Ravi Kumar\n",
      "Ravi Kuma\n",
      "Ravi Kum\n",
      "Ravi Ku\n",
      "Ravi K\n",
      "Ravi \n",
      "Ravi\n",
      "Rav\n",
      "Ra\n",
      "R\n"
     ]
    }
   ],
   "source": [
    "def printRaviKumar(s):\n",
    "    if(len(s) > 0):\n",
    "        print(s)\n",
    "        s=s[:-1]\n",
    "        printRaviKumar(s)\n",
    "        \n",
    "printRaviKumar('Ravi Kumar')"
   ]
  },
  {
   "cell_type": "code",
   "execution_count": 5,
   "id": "d457bedf",
   "metadata": {},
   "outputs": [
    {
     "name": "stdout",
     "output_type": "stream",
     "text": [
      "(1, 2, 3, 4)\n"
     ]
    },
    {
     "data": {
      "text/plain": [
       "10"
      ]
     },
     "execution_count": 5,
     "metadata": {},
     "output_type": "execute_result"
    }
   ],
   "source": [
    "def addthese(*n):#makes tuple.\n",
    "    print(n)\n",
    "    return sum(n)\n",
    "\n",
    "addthese(1,2,3,4)"
   ]
  },
  {
   "cell_type": "code",
   "execution_count": 10,
   "id": "43eb8816",
   "metadata": {},
   "outputs": [
    {
     "name": "stdout",
     "output_type": "stream",
     "text": [
      "WOW\n",
      "WO\n",
      "W\n"
     ]
    }
   ],
   "source": [
    "printRaviKumar('WOW')"
   ]
  },
  {
   "cell_type": "code",
   "execution_count": 12,
   "id": "d4d9023d",
   "metadata": {},
   "outputs": [
    {
     "name": "stdout",
     "output_type": "stream",
     "text": [
      "Ravi Kumar Ki Langot \n"
     ]
    }
   ],
   "source": [
    "def capitalize(s):\n",
    "    s1 = \"\".join(n[0].upper() + n[1:]+\" \" for n in s.split())\n",
    "    print(s1)\n",
    "\n",
    "capitalize(\"ravi kumar ki langot\")\n"
   ]
  },
  {
   "cell_type": "code",
   "execution_count": 11,
   "id": "1349c26d",
   "metadata": {},
   "outputs": [
    {
     "name": "stdout",
     "output_type": "stream",
     "text": [
      "30\n"
     ]
    }
   ],
   "source": [
    "something = lambda : print('something')\n",
    "add = lambda x,y : x+y\n",
    "addany = lambda *x : sum(x)\n",
    "mul = lambda x,y : x*y\n",
    "sqr = lambda x : x**2\n",
    "\n",
    "print(add(2,3) * mul(2,3))"
   ]
  },
  {
   "cell_type": "code",
   "execution_count": 14,
   "id": "6afad766",
   "metadata": {},
   "outputs": [
    {
     "name": "stdout",
     "output_type": "stream",
     "text": [
      "9\n",
      "10\n"
     ]
    }
   ],
   "source": [
    "print(add(4,5))\n",
    "print(addany(1,2,3,4))\n"
   ]
  },
  {
   "cell_type": "code",
   "execution_count": 17,
   "id": "8625a4cb",
   "metadata": {},
   "outputs": [
    {
     "data": {
      "text/plain": [
       "9996"
      ]
     },
     "execution_count": 17,
     "metadata": {},
     "output_type": "execute_result"
    }
   ],
   "source": [
    "min = lambda x, y: x if x < y else y\n",
    "min(101*99, 102*98)"
   ]
  },
  {
   "cell_type": "code",
   "execution_count": 20,
   "id": "4af17e23",
   "metadata": {},
   "outputs": [
    {
     "name": "stdout",
     "output_type": "stream",
     "text": [
      "['a', 'aa', 'aaa', 'aaaa', 'b', 'bb', 'bbb', 'bbbb', 'c', 'cc', 'ccc', 'cccc']\n"
     ]
    }
   ],
   "source": [
    "print([x*y for x in 'abc' for y in range(1,5)])"
   ]
  },
  {
   "cell_type": "code",
   "execution_count": 16,
   "id": "5b7d7d1b",
   "metadata": {},
   "outputs": [
    {
     "name": "stdout",
     "output_type": "stream",
     "text": [
      "[4, 36, 16, 9, 81, 121]\n"
     ]
    }
   ],
   "source": [
    "l1=[2,6,4,3,9,11]\n",
    "l2=list(map(sqr, l1))\n",
    "print(l2)"
   ]
  },
  {
   "cell_type": "code",
   "execution_count": 37,
   "id": "34617ab8",
   "metadata": {},
   "outputs": [
    {
     "name": "stdout",
     "output_type": "stream",
     "text": [
      "['sometime']\n",
      "1\n"
     ]
    }
   ],
   "source": [
    "input_list = 'This is sometime getting interesting'.split()\n",
    "fil = list(filter(lambda word : word[0].upper()=='S',  ))\n",
    "print(fil)\n",
    "count = len(fil)\n",
    "print(count)"
   ]
  },
  {
   "cell_type": "markdown",
   "id": "9fedb401",
   "metadata": {},
   "source": [
    "# Breaking.."
   ]
  },
  {
   "cell_type": "code",
   "execution_count": 46,
   "id": "d0bf85b7",
   "metadata": {},
   "outputs": [
    {
     "name": "stdout",
     "output_type": "stream",
     "text": [
      "10\n"
     ]
    }
   ],
   "source": [
    "from functools import reduce\n",
    "q=reduce(lambda x,y:x+y,[1,2,3,4])\n",
    "print(q)"
   ]
  },
  {
   "cell_type": "code",
   "execution_count": 47,
   "id": "256845a6",
   "metadata": {},
   "outputs": [
    {
     "name": "stdout",
     "output_type": "stream",
     "text": [
      "1\n"
     ]
    }
   ],
   "source": [
    "print( ((500//7) % 5) ** 3)"
   ]
  },
  {
   "cell_type": "code",
   "execution_count": 52,
   "id": "75af656c",
   "metadata": {},
   "outputs": [
    {
     "name": "stdout",
     "output_type": "stream",
     "text": [
      "love\n",
      "[[7, 8, 9, 10]]\n",
      "1\n",
      "2\n",
      "3\n"
     ]
    }
   ],
   "source": [
    "S = 'I love Python'\n",
    "print(S[-11:-7])\n",
    "L = [[1, 2, 3], [4, 5, 6], [7, 8, 9, 10]]\n",
    "print(L[2:])\n",
    "D = {1:['Raj', 22], 2:['Simran', 21], 3:['Rahul', 40]}\n",
    "for val in D:\n",
    "     print(val)"
   ]
  },
  {
   "cell_type": "code",
   "execution_count": 89,
   "id": "01634603",
   "metadata": {},
   "outputs": [
    {
     "name": "stdout",
     "output_type": "stream",
     "text": [
      "[3, 4]\n",
      "{3, 4}\n"
     ]
    }
   ],
   "source": [
    "n=set(list(range(1,6)))\n",
    "n1=set([1,2,5])\n",
    "print(list(n-n1))\n",
    "print(n.difference(n1))"
   ]
  },
  {
   "cell_type": "code",
   "execution_count": 78,
   "id": "796cfd62",
   "metadata": {},
   "outputs": [
    {
     "name": "stdout",
     "output_type": "stream",
     "text": [
      "[3, 8, 14, 20]\n"
     ]
    }
   ],
   "source": [
    "C=set([2, 5, 9, 12, 13, 15, 16, 17, 18, 19])\n",
    "F=set([2, 4, 5, 6, 7, 9, 13, 16])\n",
    "H=set([1, 2, 5, 9, 10, 11, 12, 13, 15])\n",
    "# print(s1.intersection(s2).difference(s3))\n",
    "print(sorted(set(range(1,21)).symmetric_difference(C.union(F).union(H))))"
   ]
  },
  {
   "cell_type": "code",
   "execution_count": 82,
   "id": "68f6bfb6",
   "metadata": {},
   "outputs": [
    {
     "name": "stdout",
     "output_type": "stream",
     "text": [
      "[3, 5, 8, 16]\n"
     ]
    }
   ],
   "source": [
    "C=set([1, 2, 3, 4, 5, 6, 8, 9, 13, 16])\n",
    "F=set([2, 3, 5, 6, 11, 12, 13, 14, 17, 19, 20])\n",
    "H=set([2, 6, 7, 8, 10, 11, 12, 13, 15, 16, 18])\n",
    "# print(s1.intersection(s2).difference(s3))\n",
    "print(sorted(C.intersection(F).difference(H).union(C.intersection(H).difference(F))))\n",
    "#EO[3, 5, 8, 11, 12, 16]"
   ]
  },
  {
   "cell_type": "code",
   "execution_count": null,
   "id": "45f6f106",
   "metadata": {},
   "outputs": [],
   "source": []
  }
 ],
 "metadata": {
  "kernelspec": {
   "display_name": "Python 3 (ipykernel)",
   "language": "python",
   "name": "python3"
  },
  "language_info": {
   "codemirror_mode": {
    "name": "ipython",
    "version": 3
   },
   "file_extension": ".py",
   "mimetype": "text/x-python",
   "name": "python",
   "nbconvert_exporter": "python",
   "pygments_lexer": "ipython3",
   "version": "3.10.9"
  }
 },
 "nbformat": 4,
 "nbformat_minor": 5
}
