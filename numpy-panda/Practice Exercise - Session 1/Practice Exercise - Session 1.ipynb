{
 "cells": [
  {
   "cell_type": "code",
   "execution_count": 1,
   "metadata": {},
   "outputs": [],
   "source": [
    "#Import all the necessary libraries\n",
    "import pandas as pd\n",
    "import numpy as np\n",
    "import matplotlib.pyplot as plt"
   ]
  },
  {
   "cell_type": "markdown",
   "metadata": {},
   "source": [
    "### I - Virat Kohli Dataset"
   ]
  },
  {
   "cell_type": "code",
   "execution_count": 2,
   "metadata": {},
   "outputs": [],
   "source": [
    "df = pd.read_csv(\"virat.csv\")"
   ]
  },
  {
   "cell_type": "code",
   "execution_count": 24,
   "metadata": {},
   "outputs": [
    {
     "name": "stdout",
     "output_type": "stream",
     "text": [
      "0      10\n",
      "2       6\n",
      "1       5\n",
      "12      4\n",
      "37      4\n",
      "       ..\n",
      "21      1\n",
      "128     1\n",
      "6       1\n",
      "15      1\n",
      "55      1\n",
      "Name: Runs, Length: 75, dtype: int64\n",
      "   Runs Mins  BF  4s  6s     SR  Pos Dismissal  Inns   Opposition  \\\n",
      "0    12   33  22   1   0  54.54    2       lbw     1  v Sri Lanka   \n",
      "1    37   82  67   6   0  55.22    2    caught     2  v Sri Lanka   \n",
      "2    25   40  38   4   0  65.78    1   run out     1  v Sri Lanka   \n",
      "3    54   87  66   7   0  81.81    1    bowled     1  v Sri Lanka   \n",
      "4    31   45  46   3   1  67.39    1       lbw     2  v Sri Lanka   \n",
      "\n",
      "          Ground Start Date  \n",
      "0       Dambulla  18-Aug-08  \n",
      "1       Dambulla  20-Aug-08  \n",
      "2  Colombo (RPS)  24-Aug-08  \n",
      "3  Colombo (RPS)  27-Aug-08  \n",
      "4  Colombo (RPS)  29-Aug-08  \n"
     ]
    }
   ],
   "source": [
    "df.head()\n",
    "print(df.Runs.value_counts())\n",
    "print(df.head())"
   ]
  },
  {
   "cell_type": "markdown",
   "metadata": {},
   "source": [
    "#### Spread in Runs\n",
    "Question 1: Analyse the spread of Runs scored by Virat in all his matches and report the difference between the scores at the 50th percentile and the 25th percentile respectively.\n",
    "\n",
    "    a)16.5\n",
    "    b)22.5\n",
    "    c)26.5\n",
    "    d)32.5\n",
    "\n"
   ]
  },
  {
   "cell_type": "code",
   "execution_count": 22,
   "metadata": {},
   "outputs": [
    {
     "name": "stdout",
     "output_type": "stream",
     "text": [
      "count    132.000000\n",
      "mean      46.848485\n",
      "std       41.994635\n",
      "min        0.000000\n",
      "25%       10.000000\n",
      "50%       32.500000\n",
      "75%       80.250000\n",
      "max      154.000000\n",
      "Name: Runs, dtype: float64\n"
     ]
    },
    {
     "data": {
      "text/plain": [
       "count    132.000000\n",
       "mean      46.848485\n",
       "std       41.994635\n",
       "min        0.000000\n",
       "25%       10.000000\n",
       "50%       32.500000\n",
       "100%     154.000000\n",
       "max      154.000000\n",
       "Name: Runs, dtype: float64"
      ]
     },
     "execution_count": 22,
     "metadata": {},
     "output_type": "execute_result"
    }
   ],
   "source": [
    "## Your code here\n",
    "df.Runs.describe()\n",
    "# df.Runs.value_counts()\n",
    "#will not work. do all the data cleaning and preparation steps then check for answres\n",
    "#contains * as not out indicator\n",
    "# df.Runs = df.Runs.apply(lambda x : x.replace('*',''))\n",
    "# print(df.Runs.describe())\n",
    "# df.Runs = df.Runs.astype('int32')\n",
    "print(df.Runs.describe())\n",
    "df['Runs'].describe(percentiles = [0.25,0.5,1]) "
   ]
  },
  {
   "cell_type": "markdown",
   "metadata": {},
   "source": [
    "#### Box Plots\n",
    "\n",
    "Question 2: Plot a Box Plot to analyse the spread of Runs that Virat has scored. The upper fence in the box plot lies in which interval?\n",
    "\n",
    "    a)100-120\n",
    "    b)120-140\n",
    "    c)140-160\n",
    "    d)160-180\n"
   ]
  },
  {
   "cell_type": "code",
   "execution_count": 23,
   "metadata": {},
   "outputs": [
    {
     "data": {
      "text/plain": [
       "{'whiskers': [<matplotlib.lines.Line2D at 0x26f95f4f850>,\n",
       "  <matplotlib.lines.Line2D at 0x26f95f4faf0>],\n",
       " 'caps': [<matplotlib.lines.Line2D at 0x26f95f4fd90>,\n",
       "  <matplotlib.lines.Line2D at 0x26f95f9c070>],\n",
       " 'boxes': [<matplotlib.lines.Line2D at 0x26f95f4f640>],\n",
       " 'medians': [<matplotlib.lines.Line2D at 0x26f95f9c310>],\n",
       " 'fliers': [<matplotlib.lines.Line2D at 0x26f95f9c5b0>],\n",
       " 'means': []}"
      ]
     },
     "execution_count": 23,
     "metadata": {},
     "output_type": "execute_result"
    },
    {
     "data": {
      "image/png": "[encoded data removed]",
      "text/plain": [
       "<Figure size 640x480 with 1 Axes>"
      ]
     },
     "metadata": {},
     "output_type": "display_data"
    }
   ],
   "source": [
    "#Your code here\n",
    "plt.boxplot(df.Runs)"
   ]
  },
  {
   "attachments": {},
   "cell_type": "markdown",
   "metadata": {},
   "source": [
    "#### False Statement\n",
    "\n",
    "Q3:Consider the following statements and choose the correct option\n",
    "\n",
    "     I - Virat has played the maximum number of matches in 2011 - Yes\n",
    "     II - Virat has the highest run average in the year 2017 - No\n",
    "     III - Virat has the maximum score in a single match and the highest run average in the year 2016.\n",
    "\n",
    "Which of the above statements is/are false?\n",
    "\n",
    "    a)I and II\n",
    "    b)I and III\n",
    "    c)II\n",
    "    d)III\n",
    "\n"
   ]
  },
  {
   "cell_type": "code",
   "execution_count": 33,
   "metadata": {},
   "outputs": [
    {
     "name": "stdout",
     "output_type": "stream",
     "text": [
      "   Runs Mins  BF  4s  6s     SR  Pos Dismissal  Inns   Opposition  \\\n",
      "0    12   33  22   1   0  54.54    2       lbw     1  v Sri Lanka   \n",
      "1    37   82  67   6   0  55.22    2    caught     2  v Sri Lanka   \n",
      "2    25   40  38   4   0  65.78    1   run out     1  v Sri Lanka   \n",
      "3    54   87  66   7   0  81.81    1    bowled     1  v Sri Lanka   \n",
      "4    31   45  46   3   1  67.39    1       lbw     2  v Sri Lanka   \n",
      "\n",
      "          Ground Start Date  Year  \n",
      "0       Dambulla  18-Aug-08  2008  \n",
      "1       Dambulla  20-Aug-08  2008  \n",
      "2  Colombo (RPS)  24-Aug-08  2008  \n",
      "3  Colombo (RPS)  27-Aug-08  2008  \n",
      "4  Colombo (RPS)  29-Aug-08  2008  \n",
      "2011    31\n",
      "2013    23\n",
      "2014    17\n",
      "2010    16\n",
      "2012    11\n",
      "2015    10\n",
      "2016    10\n",
      "2009     6\n",
      "2008     5\n",
      "2017     3\n",
      "Name: Year, dtype: int64\n"
     ]
    },
    {
     "name": "stderr",
     "output_type": "stream",
     "text": [
      "C:\\Users\\Admin\\AppData\\Local\\Temp\\ipykernel_16248\\755123187.py:5: FutureWarning: The default value of numeric_only in DataFrameGroupBy.mean is deprecated. In a future version, numeric_only will default to False. Either specify numeric_only or select only columns which should be valid for the function.\n",
      "  df1=df.groupby(by = ['Year']).mean()\n"
     ]
    },
    {
     "data": {
      "text/html": [
       "<div>\n",
       "<style scoped>\n",
       "    .dataframe tbody tr th:only-of-type {\n",
       "        vertical-align: middle;\n",
       "    }\n",
       "\n",
       "    .dataframe tbody tr th {\n",
       "        vertical-align: top;\n",
       "    }\n",
       "\n",
       "    .dataframe thead th {\n",
       "        text-align: right;\n",
       "    }\n",
       "</style>\n",
       "<table border=\"1\" class=\"dataframe\">\n",
       "  <thead>\n",
       "    <tr style=\"text-align: right;\">\n",
       "      <th></th>\n",
       "      <th>Runs</th>\n",
       "      <th>BF</th>\n",
       "      <th>4s</th>\n",
       "      <th>6s</th>\n",
       "      <th>Pos</th>\n",
       "      <th>Inns</th>\n",
       "    </tr>\n",
       "    <tr>\n",
       "      <th>Year</th>\n",
       "      <th></th>\n",
       "      <th></th>\n",
       "      <th></th>\n",
       "      <th></th>\n",
       "      <th></th>\n",
       "      <th></th>\n",
       "    </tr>\n",
       "  </thead>\n",
       "  <tbody>\n",
       "    <tr>\n",
       "      <th>2008</th>\n",
       "      <td>31.800000</td>\n",
       "      <td>47.800000</td>\n",
       "      <td>4.200000</td>\n",
       "      <td>0.200000</td>\n",
       "      <td>1.400000</td>\n",
       "      <td>1.400000</td>\n",
       "    </tr>\n",
       "    <tr>\n",
       "      <th>2009</th>\n",
       "      <td>38.333333</td>\n",
       "      <td>42.833333</td>\n",
       "      <td>4.333333</td>\n",
       "      <td>0.166667</td>\n",
       "      <td>4.833333</td>\n",
       "      <td>1.500000</td>\n",
       "    </tr>\n",
       "    <tr>\n",
       "      <th>2010</th>\n",
       "      <td>45.375000</td>\n",
       "      <td>51.812500</td>\n",
       "      <td>4.312500</td>\n",
       "      <td>0.250000</td>\n",
       "      <td>3.125000</td>\n",
       "      <td>1.625000</td>\n",
       "    </tr>\n",
       "    <tr>\n",
       "      <th>2011</th>\n",
       "      <td>42.000000</td>\n",
       "      <td>48.387097</td>\n",
       "      <td>3.903226</td>\n",
       "      <td>0.225806</td>\n",
       "      <td>3.838710</td>\n",
       "      <td>1.580645</td>\n",
       "    </tr>\n",
       "    <tr>\n",
       "      <th>2012</th>\n",
       "      <td>40.363636</td>\n",
       "      <td>48.909091</td>\n",
       "      <td>3.272727</td>\n",
       "      <td>0.090909</td>\n",
       "      <td>3.090909</td>\n",
       "      <td>1.545455</td>\n",
       "    </tr>\n",
       "    <tr>\n",
       "      <th>2013</th>\n",
       "      <td>47.826087</td>\n",
       "      <td>47.304348</td>\n",
       "      <td>5.217391</td>\n",
       "      <td>0.826087</td>\n",
       "      <td>3.000000</td>\n",
       "      <td>1.565217</td>\n",
       "    </tr>\n",
       "    <tr>\n",
       "      <th>2014</th>\n",
       "      <td>58.529412</td>\n",
       "      <td>57.411765</td>\n",
       "      <td>5.235294</td>\n",
       "      <td>1.117647</td>\n",
       "      <td>3.294118</td>\n",
       "      <td>1.647059</td>\n",
       "    </tr>\n",
       "    <tr>\n",
       "      <th>2015</th>\n",
       "      <td>30.400000</td>\n",
       "      <td>37.600000</td>\n",
       "      <td>1.500000</td>\n",
       "      <td>0.700000</td>\n",
       "      <td>3.300000</td>\n",
       "      <td>1.500000</td>\n",
       "    </tr>\n",
       "    <tr>\n",
       "      <th>2016</th>\n",
       "      <td>73.900000</td>\n",
       "      <td>73.900000</td>\n",
       "      <td>6.200000</td>\n",
       "      <td>0.800000</td>\n",
       "      <td>3.000000</td>\n",
       "      <td>1.600000</td>\n",
       "    </tr>\n",
       "    <tr>\n",
       "      <th>2017</th>\n",
       "      <td>61.666667</td>\n",
       "      <td>57.666667</td>\n",
       "      <td>6.000000</td>\n",
       "      <td>1.666667</td>\n",
       "      <td>3.000000</td>\n",
       "      <td>1.666667</td>\n",
       "    </tr>\n",
       "  </tbody>\n",
       "</table>\n",
       "</div>"
      ],
      "text/plain": [
       "           Runs         BF        4s        6s       Pos      Inns\n",
       "Year                                                              \n",
       "2008  31.800000  47.800000  4.200000  0.200000  1.400000  1.400000\n",
       "2009  38.333333  42.833333  4.333333  0.166667  4.833333  1.500000\n",
       "2010  45.375000  51.812500  4.312500  0.250000  3.125000  1.625000\n",
       "2011  42.000000  48.387097  3.903226  0.225806  3.838710  1.580645\n",
       "2012  40.363636  48.909091  3.272727  0.090909  3.090909  1.545455\n",
       "2013  47.826087  47.304348  5.217391  0.826087  3.000000  1.565217\n",
       "2014  58.529412  57.411765  5.235294  1.117647  3.294118  1.647059\n",
       "2015  30.400000  37.600000  1.500000  0.700000  3.300000  1.500000\n",
       "2016  73.900000  73.900000  6.200000  0.800000  3.000000  1.600000\n",
       "2017  61.666667  57.666667  6.000000  1.666667  3.000000  1.666667"
      ]
     },
     "execution_count": 33,
     "metadata": {},
     "output_type": "execute_result"
    }
   ],
   "source": [
    "## Add year col and draw a line plot\n",
    "print(df.head())\n",
    "df['Year'] = pd.DatetimeIndex(df['Start Date']).year\n",
    "print(df.Year.value_counts())\n",
    "df1=df.groupby(by = ['Year']).mean()\n",
    "df1"
   ]
  },
  {
   "cell_type": "markdown",
   "metadata": {},
   "source": [
    "#### Maximum Frequency\n",
    "\n",
    "Q4:Plot a histogram for the Mins column with 15 bins. Among the three ranges mentioned below, which one has the highest frequency?\n",
    "\n",
    "A - [54.6,68)\n",
    "\n",
    "B - [68,81.4)\n",
    "\n",
    "C - [121.6,135)\n",
    "\n",
    "    a)A - [54.6,68)\n",
    "    b)B - [68,81.4)\n",
    "    c)C - [121.6,135)\n",
    "    d)All the bin ranges have the same frequency\n"
   ]
  },
  {
   "cell_type": "code",
   "execution_count": 47,
   "metadata": {},
   "outputs": [
    {
     "name": "stderr",
     "output_type": "stream",
     "text": [
      "C:\\Users\\Admin\\AppData\\Local\\Temp\\ipykernel_16248\\2514417467.py:2: SettingWithCopyWarning: \n",
      "A value is trying to be set on a copy of a slice from a DataFrame.\n",
      "Try using .loc[row_indexer,col_indexer] = value instead\n",
      "\n",
      "See the caveats in the documentation: https://pandas.pydata.org/pandas-docs/stable/user_guide/indexing.html#returning-a-view-versus-a-copy\n",
      "  df2['Mins'] = df2['Mins'].apply(lambda x: int(x))\n"
     ]
    },
    {
     "data": {
      "text/plain": [
       "(array([15., 13.,  9.,  4.,  6.,  6.,  7.,  2.,  3.,  3.,  3.,  3.,  8.,\n",
       "         1.,  2.,  2.,  4.,  5.,  7.,  4.,  2.,  2.,  3.,  3.,  2.,  1.,\n",
       "         1.,  1.,  2.,  2.]),\n",
       " array([  1. ,   7.7,  14.4,  21.1,  27.8,  34.5,  41.2,  47.9,  54.6,\n",
       "         61.3,  68. ,  74.7,  81.4,  88.1,  94.8, 101.5, 108.2, 114.9,\n",
       "        121.6, 128.3, 135. , 141.7, 148.4, 155.1, 161.8, 168.5, 175.2,\n",
       "        181.9, 188.6, 195.3, 202. ]),\n",
       " <BarContainer object of 30 artists>)"
      ]
     },
     "execution_count": 47,
     "metadata": {},
     "output_type": "execute_result"
    },
    {
     "data": {
      "image/png": "[encoded data removed]",
      "text/plain": [
       "<Figure size 640x480 with 1 Axes>"
      ]
     },
     "metadata": {},
     "output_type": "display_data"
    }
   ],
   "source": [
    "df2 = df[~(df['Mins']== \"-\")]\n",
    "df2['Mins'] = df2['Mins'].apply(lambda x: int(x))\n",
    "plt.hist(df2.Mins,bins=30)"
   ]
  },
  {
   "cell_type": "code",
   "execution_count": null,
   "metadata": {},
   "outputs": [],
   "source": []
  }
 ],
 "metadata": {
  "kernelspec": {
   "display_name": "base",
   "language": "python",
   "name": "python3"
  },
  "language_info": {
   "codemirror_mode": {
    "name": "ipython",
    "version": 3
   },
   "file_extension": ".py",
   "mimetype": "text/x-python",
   "name": "python",
   "nbconvert_exporter": "python",
   "pygments_lexer": "ipython3",
   "version": "3.10.9"
  },
  "vscode": {
   "interpreter": {
    "hash": "2043299c89c8cd0b4d1a6f5cf4529bd58e6a4e0fe3181a25e0d328c821cdc5c5"
   }
  }
 },
 "nbformat": 4,
 "nbformat_minor": 2
}
